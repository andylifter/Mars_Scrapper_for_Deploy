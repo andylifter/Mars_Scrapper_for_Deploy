{
 "cells": [
  {
   "cell_type": "code",
   "execution_count": null,
   "id": "4682c090",
   "metadata": {},
   "outputs": [],
   "source": [
    "from NASA_api_key import API_KEY\n",
    "import requests \n",
    "import datetime\n",
    "import json\n",
    "import time\n",
    "import os\n",
    "\n",
    "print(os.listdir('static/Perseverance'))\n",
    "count = 5\n",
    "for file in sorted(os.listdir('static/Perseverance')): \n",
    "    print(file)\n",
    "    os.remove('static/Perseverance/' + file)\n",
    "    count -= 1\n",
    "    if count == 0:\n",
    "        break\n",
    "\n",
    "print(os.listdir('static/Perseverance'))\n",
    "\n",
    "    \n",
    "\n"
   ]
  }
 ],
 "metadata": {
  "kernelspec": {
   "display_name": "venv",
   "language": "python",
   "name": "python3"
  },
  "language_info": {
   "codemirror_mode": {
    "name": "ipython",
    "version": 3
   },
   "file_extension": ".py",
   "mimetype": "text/x-python",
   "name": "python",
   "nbconvert_exporter": "python",
   "pygments_lexer": "ipython3",
   "version": "3.12.10"
  }
 },
 "nbformat": 4,
 "nbformat_minor": 5
}
